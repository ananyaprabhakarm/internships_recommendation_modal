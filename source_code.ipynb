{
 "cells": [
  {
   "cell_type": "code",
   "execution_count": 8,
   "metadata": {},
   "outputs": [],
   "source": [
    "import pandas as pd\n",
    "from sklearn.feature_extraction.text import TfidfVectorizer\n",
    "from sklearn.metrics.pairwise import cosine_similarity\n",
    "from sklearn.metrics.pairwise import linear_kernel\n",
    "import requests"
   ]
  },
  {
   "cell_type": "code",
   "execution_count": 9,
   "metadata": {},
   "outputs": [],
   "source": [
    "response = requests.get('http://workshala.onrender.com/jobs')\n",
    "data = response.json()  \n",
    "df = pd.DataFrame(data)"
   ]
  },
  {
   "cell_type": "code",
   "execution_count": 10,
   "metadata": {},
   "outputs": [
    {
     "data": {
      "text/html": [
       "<div>\n",
       "<style scoped>\n",
       "    .dataframe tbody tr th:only-of-type {\n",
       "        vertical-align: middle;\n",
       "    }\n",
       "\n",
       "    .dataframe tbody tr th {\n",
       "        vertical-align: top;\n",
       "    }\n",
       "\n",
       "    .dataframe thead th {\n",
       "        text-align: right;\n",
       "    }\n",
       "</style>\n",
       "<table border=\"1\" class=\"dataframe\">\n",
       "  <thead>\n",
       "    <tr style=\"text-align: right;\">\n",
       "      <th></th>\n",
       "      <th>applicants</th>\n",
       "      <th>_id</th>\n",
       "      <th>companyName</th>\n",
       "      <th>jobType</th>\n",
       "      <th>description</th>\n",
       "      <th>startDate</th>\n",
       "      <th>stipend</th>\n",
       "      <th>duration</th>\n",
       "      <th>applyBy</th>\n",
       "      <th>imageUrl</th>\n",
       "    </tr>\n",
       "  </thead>\n",
       "  <tbody>\n",
       "    <tr>\n",
       "      <th>0</th>\n",
       "      <td>[]</td>\n",
       "      <td>6551ea10b5dd9fb732acc397</td>\n",
       "      <td>IBM</td>\n",
       "      <td>Internship</td>\n",
       "      <td>NodeJS Engineers Needed Urgently</td>\n",
       "      <td>1 Dec</td>\n",
       "      <td>12,000</td>\n",
       "      <td>3 months</td>\n",
       "      <td>26 Nov</td>\n",
       "      <td>https://res.cloudinary.com/doctqxch9/image/upl...</td>\n",
       "    </tr>\n",
       "    <tr>\n",
       "      <th>1</th>\n",
       "      <td>[]</td>\n",
       "      <td>6551eab4b5dd9fb732acc398</td>\n",
       "      <td>Google</td>\n",
       "      <td>Internship</td>\n",
       "      <td>Hiring Data Scientist</td>\n",
       "      <td>1 Dec</td>\n",
       "      <td>20,000</td>\n",
       "      <td>3 months</td>\n",
       "      <td>26 Nov</td>\n",
       "      <td>https://res.cloudinary.com/doctqxch9/image/upl...</td>\n",
       "    </tr>\n",
       "    <tr>\n",
       "      <th>2</th>\n",
       "      <td>[]</td>\n",
       "      <td>65548a4143b029ebf051b4ef</td>\n",
       "      <td>Microsoft</td>\n",
       "      <td>Full-Time</td>\n",
       "      <td>Data Scientist</td>\n",
       "      <td>2 Dec</td>\n",
       "      <td>11,000</td>\n",
       "      <td>3 months</td>\n",
       "      <td>25 Nov</td>\n",
       "      <td>https://res.cloudinary.com/doctqxch9/image/upl...</td>\n",
       "    </tr>\n",
       "    <tr>\n",
       "      <th>3</th>\n",
       "      <td>[]</td>\n",
       "      <td>65548a7243b029ebf051b4f0</td>\n",
       "      <td>Apple</td>\n",
       "      <td>Full-Time</td>\n",
       "      <td>SDE</td>\n",
       "      <td>6 Dec</td>\n",
       "      <td>18,000</td>\n",
       "      <td>3 months</td>\n",
       "      <td>26 Nov</td>\n",
       "      <td>https://res.cloudinary.com/doctqxch9/image/upl...</td>\n",
       "    </tr>\n",
       "    <tr>\n",
       "      <th>4</th>\n",
       "      <td>[]</td>\n",
       "      <td>65548c0c43b029ebf051b4f1</td>\n",
       "      <td>Deloitte</td>\n",
       "      <td>Internship</td>\n",
       "      <td>ReactJS and Android Developers</td>\n",
       "      <td>10 Dec</td>\n",
       "      <td>20,000</td>\n",
       "      <td>6 months</td>\n",
       "      <td>20 Nov</td>\n",
       "      <td>https://res.cloudinary.com/doctqxch9/image/upl...</td>\n",
       "    </tr>\n",
       "  </tbody>\n",
       "</table>\n",
       "</div>"
      ],
      "text/plain": [
       "  applicants                       _id companyName     jobType  \\\n",
       "0         []  6551ea10b5dd9fb732acc397         IBM  Internship   \n",
       "1         []  6551eab4b5dd9fb732acc398      Google  Internship   \n",
       "2         []  65548a4143b029ebf051b4ef   Microsoft   Full-Time   \n",
       "3         []  65548a7243b029ebf051b4f0       Apple   Full-Time   \n",
       "4         []  65548c0c43b029ebf051b4f1    Deloitte  Internship   \n",
       "\n",
       "                        description startDate stipend  duration applyBy  \\\n",
       "0  NodeJS Engineers Needed Urgently     1 Dec  12,000  3 months  26 Nov   \n",
       "1             Hiring Data Scientist     1 Dec  20,000  3 months  26 Nov   \n",
       "2                    Data Scientist     2 Dec  11,000  3 months  25 Nov   \n",
       "3                               SDE     6 Dec  18,000  3 months  26 Nov   \n",
       "4    ReactJS and Android Developers    10 Dec  20,000  6 months  20 Nov   \n",
       "\n",
       "                                            imageUrl  \n",
       "0  https://res.cloudinary.com/doctqxch9/image/upl...  \n",
       "1  https://res.cloudinary.com/doctqxch9/image/upl...  \n",
       "2  https://res.cloudinary.com/doctqxch9/image/upl...  \n",
       "3  https://res.cloudinary.com/doctqxch9/image/upl...  \n",
       "4  https://res.cloudinary.com/doctqxch9/image/upl...  "
      ]
     },
     "execution_count": 10,
     "metadata": {},
     "output_type": "execute_result"
    }
   ],
   "source": [
    "df.head()"
   ]
  },
  {
   "cell_type": "code",
   "execution_count": 11,
   "metadata": {},
   "outputs": [
    {
     "data": {
      "text/plain": [
       "applicants     0\n",
       "_id            0\n",
       "companyName    0\n",
       "jobType        0\n",
       "description    0\n",
       "startDate      0\n",
       "stipend        0\n",
       "duration       0\n",
       "applyBy        0\n",
       "imageUrl       0\n",
       "dtype: int64"
      ]
     },
     "execution_count": 11,
     "metadata": {},
     "output_type": "execute_result"
    }
   ],
   "source": [
    "df.isnull().sum()"
   ]
  },
  {
   "cell_type": "code",
   "execution_count": 15,
   "metadata": {},
   "outputs": [],
   "source": [
    "vectorizer = TfidfVectorizer()"
   ]
  },
  {
   "cell_type": "code",
   "execution_count": 14,
   "metadata": {},
   "outputs": [],
   "source": [
    "df['features'] = df['_id'] + ' ' + df['companyName'] + ' ' + df['jobType'] + ' ' + df['description'] + ' ' + df['startDate'] + ' ' + df['stipend'] + ' ' + df['duration'] "
   ]
  }
 ],
 "metadata": {
  "kernelspec": {
   "display_name": "Python 3",
   "language": "python",
   "name": "python3"
  },
  "language_info": {
   "codemirror_mode": {
    "name": "ipython",
    "version": 3
   },
   "file_extension": ".py",
   "mimetype": "text/x-python",
   "name": "python",
   "nbconvert_exporter": "python",
   "pygments_lexer": "ipython3",
   "version": "3.12.0"
  }
 },
 "nbformat": 4,
 "nbformat_minor": 2
}
